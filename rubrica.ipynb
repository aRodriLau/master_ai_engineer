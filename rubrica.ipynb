{
  "nbformat": 4,
  "nbformat_minor": 0,
  "metadata": {
    "colab": {
      "provenance": [],
      "authorship_tag": "ABX9TyPSJTgtql2MXP7bFQPthtoM",
      "include_colab_link": true
    },
    "kernelspec": {
      "name": "python3",
      "display_name": "Python 3"
    },
    "language_info": {
      "name": "python"
    }
  },
  "cells": [
    {
      "cell_type": "markdown",
      "metadata": {
        "id": "view-in-github",
        "colab_type": "text"
      },
      "source": [
        "<a href=\"https://colab.research.google.com/github/aRodriLau/master_ai_engineer/blob/main/rubrica.ipynb\" target=\"_parent\"><img src=\"https://colab.research.google.com/assets/colab-badge.svg\" alt=\"Open In Colab\"/></a>"
      ]
    },
    {
      "cell_type": "code",
      "execution_count": 20,
      "metadata": {
        "id": "uEC1LAVog2to"
      },
      "outputs": [],
      "source": [
        "class Contact:\n",
        "\n",
        "   \"\"\"\n",
        "   This class rappresent a contact\n",
        "   \"\"\"\n",
        "\n",
        "def __init__(self, id, nome, cognome, telefono=None, email=None, indirizzo=None):\n",
        "    self._id = id\n",
        "    self._nome = nome\n",
        "    self._cognome = cognome\n",
        "    self._telefono = telefono\n",
        "    self._email = email\n",
        "    self._indirizzo = indirizzo\n",
        "\n",
        "def update(self, nome=None, cognome=None, telefono=None, email=None, indirizzo=None):\n",
        "\n",
        "      \"\"\"\n",
        "      Update contact\n",
        "      \"\"\"\n",
        "\n",
        "      if nome:\n",
        "          self._nome = nome\n",
        "      if cognome:\n",
        "          self._cognome = cognome\n",
        "      if telefono:\n",
        "          self._telefono = telefono\n",
        "      if email:\n",
        "          self._email = email\n",
        "      if indirizzo:\n",
        "          self._indirizzo = indirizzo\n",
        "\n",
        "def __repr__(self):\n",
        "\n",
        "      \"\"\"\n",
        "        Print contact\n",
        "      \"\"\"\n",
        "\n",
        "      contact_information = f\"{self._nome} {self._cognome}\"\n",
        "\n",
        "      if self._telefono:\n",
        "          contact_information += f\"\\nTelefono: {self._telefono}\"\n",
        "      if self._email:\n",
        "          contact_information += f\"\\nEmail: {self._email}\"\n",
        "      if self._indirizzo:\n",
        "          contact_information += f\"\\nIndirizzo: {self._indirizzo}\"\n",
        "\n",
        "      return contact_information\n",
        "\n",
        "\n"
      ]
    },
    {
      "cell_type": "code",
      "source": [
        "import json\n",
        "import os\n",
        "\n",
        "class Rubrica:\n",
        "   \"\"\"\n",
        "   This class rappresent a management of contact\n",
        "   \"\"\"\n",
        "\n",
        "def __init__(self, nome_file):\n",
        "\n",
        "  \"\"\"\n",
        "  init rubrica with empty list of contact\n",
        "  \"\"\"\n",
        "  self._nome_file = nome_file\n",
        "  self._contacts = []\n",
        "\n",
        "def _genera_id(self):\n",
        "\n",
        "    \"\"\"\n",
        "    Generate unique ID to contact\n",
        "    \"\"\"\n",
        "    if not self._contatti:\n",
        "        return 1\n",
        "    return max(contatto[\"id\"] for contatto in self._contatti) + 1\n",
        "\n",
        "\n",
        "def load_contact(self):\n",
        "   \"\"\"\n",
        "   Loading contacts from json file\n",
        "   \"\"\"\n",
        "   if os.path.exist(self._nome_file):\n",
        "      try:\n",
        "        with open(self._nome_file, 'r') as file:\n",
        "          self._contacts = json.load(file)\n",
        "        print(\"Loading contacts is successfully\")\n",
        "      except json.JSONDecodeError:\n",
        "        print(\"Loading file is failed\")\n",
        "        self._contacts = []\n",
        "   else:\n",
        "    print(\"File not found\")\n",
        "\n",
        "\n",
        "def add_contact():\n",
        "  pass\n",
        "def remove_contact():\n",
        "  pass\n",
        "def search_contatc():\n",
        "  pass\n",
        "def show_contact():\n",
        "  pass\n",
        "def save_contact():\n",
        "\n",
        "    \"\"\"\n",
        "    Save contacts in json file\n",
        "    \"\"\"\n",
        "\n",
        "    with open(self._nome_file, 'w') as file:\n",
        "        json.dump(self._contacts, file, indent=4)\n",
        "\n",
        "    print(\"Contatti salvati con successo.\")"
      ],
      "metadata": {
        "id": "D-6pEFKmlepX"
      },
      "execution_count": 29,
      "outputs": []
    }
  ]
}